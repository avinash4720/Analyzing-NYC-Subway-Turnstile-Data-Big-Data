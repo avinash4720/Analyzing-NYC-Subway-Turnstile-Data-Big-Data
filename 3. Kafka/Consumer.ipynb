{
 "cells": [
  {
   "cell_type": "code",
   "execution_count": 27,
   "id": "b4017d89-e6d9-454d-92a1-4d50fa8304a3",
   "metadata": {},
   "outputs": [
    {
     "name": "stdout",
     "output_type": "stream",
     "text": [
      "{'': '0', 'C/A': 'A002', 'UNIT': 'R051', 'SCP': '02-00-00', 'STATION': '59 ST', 'LINENAME': 'NQR456W', 'DIVISION': 'BMT', 'DATE': '01/28/2023', 'TIME': '03:00:00', 'DESC': 'REGULAR', 'ENTRIES': '7823204', 'EXITS                                                               ': '2779648', '_id': ObjectId('645980203e7b0d00f6fb7c1e')}\n",
      "{'': '1', 'C/A': 'A002', 'UNIT': 'R051', 'SCP': '02-00-00', 'STATION': '59 ST', 'LINENAME': 'NQR456W', 'DIVISION': 'BMT', 'DATE': '01/28/2023', 'TIME': '07:00:00', 'DESC': 'REGULAR', 'ENTRIES': '7823209', 'EXITS                                                               ': '2779660', '_id': ObjectId('645980203e7b0d00f6fb7c1f')}\n",
      "{'': '2', 'C/A': 'A002', 'UNIT': 'R051', 'SCP': '02-00-00', 'STATION': '59 ST', 'LINENAME': 'NQR456W', 'DIVISION': 'BMT', 'DATE': '01/28/2023', 'TIME': '11:00:00', 'DESC': 'REGULAR', 'ENTRIES': '7823236', 'EXITS                                                               ': '2779708', '_id': ObjectId('645980203e7b0d00f6fb7c20')}\n",
      "{'': '3', 'C/A': 'A002', 'UNIT': 'R051', 'SCP': '02-00-00', 'STATION': '59 ST', 'LINENAME': 'NQR456W', 'DIVISION': 'BMT', 'DATE': '01/28/2023', 'TIME': '15:00:00', 'DESC': 'REGULAR', 'ENTRIES': '7823309', 'EXITS                                                               ': '2779758', '_id': ObjectId('645980203e7b0d00f6fb7c21')}\n",
      "{'': '4', 'C/A': 'A002', 'UNIT': 'R051', 'SCP': '02-00-00', 'STATION': '59 ST', 'LINENAME': 'NQR456W', 'DIVISION': 'BMT', 'DATE': '01/28/2023', 'TIME': '19:00:00', 'DESC': 'REGULAR', 'ENTRIES': '7823405', 'EXITS                                                               ': '2779810', '_id': ObjectId('645980203e7b0d00f6fb7c22')}\n",
      "{'': '5', 'C/A': 'A002', 'UNIT': 'R051', 'SCP': '02-00-00', 'STATION': '59 ST', 'LINENAME': 'NQR456W', 'DIVISION': 'BMT', 'DATE': '01/28/2023', 'TIME': '23:00:00', 'DESC': 'REGULAR', 'ENTRIES': '7823467', 'EXITS                                                               ': '2779838', '_id': ObjectId('645980203e7b0d00f6fb7c23')}\n",
      "{'': '6', 'C/A': 'A002', 'UNIT': 'R051', 'SCP': '02-00-00', 'STATION': '59 ST', 'LINENAME': 'NQR456W', 'DIVISION': 'BMT', 'DATE': '01/29/2023', 'TIME': '03:00:00', 'DESC': 'REGULAR', 'ENTRIES': '7823481', 'EXITS                                                               ': '2779860', '_id': ObjectId('645980203e7b0d00f6fb7c24')}\n",
      "{'': '7', 'C/A': 'A002', 'UNIT': 'R051', 'SCP': '02-00-00', 'STATION': '59 ST', 'LINENAME': 'NQR456W', 'DIVISION': 'BMT', 'DATE': '01/29/2023', 'TIME': '07:00:00', 'DESC': 'REGULAR', 'ENTRIES': '7823485', 'EXITS                                                               ': '2779866', '_id': ObjectId('645980203e7b0d00f6fb7c25')}\n",
      "{'': '8', 'C/A': 'A002', 'UNIT': 'R051', 'SCP': '02-00-00', 'STATION': '59 ST', 'LINENAME': 'NQR456W', 'DIVISION': 'BMT', 'DATE': '01/29/2023', 'TIME': '11:00:00', 'DESC': 'REGULAR', 'ENTRIES': '7823501', 'EXITS                                                               ': '2779904', '_id': ObjectId('645980203e7b0d00f6fb7c26')}\n",
      "{'': '9', 'C/A': 'A002', 'UNIT': 'R051', 'SCP': '02-00-00', 'STATION': '59 ST', 'LINENAME': 'NQR456W', 'DIVISION': 'BMT', 'DATE': '01/29/2023', 'TIME': '15:00:00', 'DESC': 'REGULAR', 'ENTRIES': '7823558', 'EXITS                                                               ': '2779941', '_id': ObjectId('645980203e7b0d00f6fb7c27')}\n",
      "{'': '10', 'C/A': 'A002', 'UNIT': 'R051', 'SCP': '02-00-00', 'STATION': '59 ST', 'LINENAME': 'NQR456W', 'DIVISION': 'BMT', 'DATE': '01/29/2023', 'TIME': '19:00:00', 'DESC': 'REGULAR', 'ENTRIES': '7823611', 'EXITS                                                               ': '2779973', '_id': ObjectId('645980203e7b0d00f6fb7c28')}\n",
      "{'': '11', 'C/A': 'A002', 'UNIT': 'R051', 'SCP': '02-00-00', 'STATION': '59 ST', 'LINENAME': 'NQR456W', 'DIVISION': 'BMT', 'DATE': '01/29/2023', 'TIME': '23:00:00', 'DESC': 'REGULAR', 'ENTRIES': '7823653', 'EXITS                                                               ': '2780001', '_id': ObjectId('645980203e7b0d00f6fb7c29')}\n",
      "{'': '12', 'C/A': 'A002', 'UNIT': 'R051', 'SCP': '02-00-00', 'STATION': '59 ST', 'LINENAME': 'NQR456W', 'DIVISION': 'BMT', 'DATE': '01/30/2023', 'TIME': '03:00:00', 'DESC': 'REGULAR', 'ENTRIES': '7823661', 'EXITS                                                               ': '2780010', '_id': ObjectId('645980203e7b0d00f6fb7c2a')}\n",
      "{'': '13', 'C/A': 'A002', 'UNIT': 'R051', 'SCP': '02-00-00', 'STATION': '59 ST', 'LINENAME': 'NQR456W', 'DIVISION': 'BMT', 'DATE': '01/30/2023', 'TIME': '07:00:00', 'DESC': 'REGULAR', 'ENTRIES': '7823664', 'EXITS                                                               ': '2780037', '_id': ObjectId('645980203e7b0d00f6fb7c2b')}\n",
      "{'': '14', 'C/A': 'A002', 'UNIT': 'R051', 'SCP': '02-00-00', 'STATION': '59 ST', 'LINENAME': 'NQR456W', 'DIVISION': 'BMT', 'DATE': '01/30/2023', 'TIME': '11:00:00', 'DESC': 'REGULAR', 'ENTRIES': '7823702', 'EXITS                                                               ': '2780206', '_id': ObjectId('645980203e7b0d00f6fb7c2c')}\n",
      "{'': '15', 'C/A': 'A002', 'UNIT': 'R051', 'SCP': '02-00-00', 'STATION': '59 ST', 'LINENAME': 'NQR456W', 'DIVISION': 'BMT', 'DATE': '01/30/2023', 'TIME': '15:00:00', 'DESC': 'REGULAR', 'ENTRIES': '7823784', 'EXITS                                                               ': '2780265', '_id': ObjectId('645980203e7b0d00f6fb7c2d')}\n",
      "{'': '16', 'C/A': 'A002', 'UNIT': 'R051', 'SCP': '02-00-00', 'STATION': '59 ST', 'LINENAME': 'NQR456W', 'DIVISION': 'BMT', 'DATE': '01/30/2023', 'TIME': '19:00:00', 'DESC': 'REGULAR', 'ENTRIES': '7824018', 'EXITS                                                               ': '2780306', '_id': ObjectId('645980203e7b0d00f6fb7c2e')}\n",
      "{'': '17', 'C/A': 'A002', 'UNIT': 'R051', 'SCP': '02-00-00', 'STATION': '59 ST', 'LINENAME': 'NQR456W', 'DIVISION': 'BMT', 'DATE': '01/30/2023', 'TIME': '23:00:00', 'DESC': 'REGULAR', 'ENTRIES': '7824097', 'EXITS                                                               ': '2780337', '_id': ObjectId('645980203e7b0d00f6fb7c2f')}\n",
      "{'': '18', 'C/A': 'A002', 'UNIT': 'R051', 'SCP': '02-00-00', 'STATION': '59 ST', 'LINENAME': 'NQR456W', 'DIVISION': 'BMT', 'DATE': '01/31/2023', 'TIME': '03:00:00', 'DESC': 'REGULAR', 'ENTRIES': '7824102', 'EXITS                                                               ': '2780348', '_id': ObjectId('645980203e7b0d00f6fb7c30')}\n",
      "{'': '19', 'C/A': 'A002', 'UNIT': 'R051', 'SCP': '02-00-00', 'STATION': '59 ST', 'LINENAME': 'NQR456W', 'DIVISION': 'BMT', 'DATE': '01/31/2023', 'TIME': '07:00:00', 'DESC': 'REGULAR', 'ENTRIES': '7824109', 'EXITS                                                               ': '2780375', '_id': ObjectId('645980203e7b0d00f6fb7c31')}\n",
      "{'': '20', 'C/A': 'A002', 'UNIT': 'R051', 'SCP': '02-00-00', 'STATION': '59 ST', 'LINENAME': 'NQR456W', 'DIVISION': 'BMT', 'DATE': '01/31/2023', 'TIME': '11:00:00', 'DESC': 'REGULAR', 'ENTRIES': '7824160', 'EXITS                                                               ': '2780590', '_id': ObjectId('645980203e7b0d00f6fb7c32')}\n",
      "{'': '21', 'C/A': 'A002', 'UNIT': 'R051', 'SCP': '02-00-00', 'STATION': '59 ST', 'LINENAME': 'NQR456W', 'DIVISION': 'BMT', 'DATE': '01/31/2023', 'TIME': '15:00:00', 'DESC': 'REGULAR', 'ENTRIES': '7824244', 'EXITS                                                               ': '2780649', '_id': ObjectId('645980203e7b0d00f6fb7c33')}\n",
      "{'': '22', 'C/A': 'A002', 'UNIT': 'R051', 'SCP': '02-00-00', 'STATION': '59 ST', 'LINENAME': 'NQR456W', 'DIVISION': 'BMT', 'DATE': '01/31/2023', 'TIME': '19:00:00', 'DESC': 'REGULAR', 'ENTRIES': '7824503', 'EXITS                                                               ': '2780715', '_id': ObjectId('645980203e7b0d00f6fb7c34')}\n",
      "{'': '23', 'C/A': 'A002', 'UNIT': 'R051', 'SCP': '02-00-00', 'STATION': '59 ST', 'LINENAME': 'NQR456W', 'DIVISION': 'BMT', 'DATE': '01/31/2023', 'TIME': '23:00:00', 'DESC': 'REGULAR', 'ENTRIES': '7824598', 'EXITS                                                               ': '2780744', '_id': ObjectId('645980203e7b0d00f6fb7c35')}\n",
      "{'': '24', 'C/A': 'A002', 'UNIT': 'R051', 'SCP': '02-00-00', 'STATION': '59 ST', 'LINENAME': 'NQR456W', 'DIVISION': 'BMT', 'DATE': '02/01/2023', 'TIME': '03:00:00', 'DESC': 'REGULAR', 'ENTRIES': '7824605', 'EXITS                                                               ': '2780759', '_id': ObjectId('645980203e7b0d00f6fb7c36')}\n",
      "{'': '25', 'C/A': 'A002', 'UNIT': 'R051', 'SCP': '02-00-00', 'STATION': '59 ST', 'LINENAME': 'NQR456W', 'DIVISION': 'BMT', 'DATE': '02/01/2023', 'TIME': '07:00:00', 'DESC': 'REGULAR', 'ENTRIES': '7824612', 'EXITS                                                               ': '2780792', '_id': ObjectId('645980203e7b0d00f6fb7c37')}\n",
      "{'': '26', 'C/A': 'A002', 'UNIT': 'R051', 'SCP': '02-00-00', 'STATION': '59 ST', 'LINENAME': 'NQR456W', 'DIVISION': 'BMT', 'DATE': '02/01/2023', 'TIME': '11:00:00', 'DESC': 'REGULAR', 'ENTRIES': '7824659', 'EXITS                                                               ': '2780995', '_id': ObjectId('645980203e7b0d00f6fb7c38')}\n",
      "{'': '27', 'C/A': 'A002', 'UNIT': 'R051', 'SCP': '02-00-00', 'STATION': '59 ST', 'LINENAME': 'NQR456W', 'DIVISION': 'BMT', 'DATE': '02/01/2023', 'TIME': '15:00:00', 'DESC': 'REGULAR', 'ENTRIES': '7824756', 'EXITS                                                               ': '2781050', '_id': ObjectId('645980203e7b0d00f6fb7c39')}\n",
      "{'': '28', 'C/A': 'A002', 'UNIT': 'R051', 'SCP': '02-00-00', 'STATION': '59 ST', 'LINENAME': 'NQR456W', 'DIVISION': 'BMT', 'DATE': '02/01/2023', 'TIME': '19:00:00', 'DESC': 'REGULAR', 'ENTRIES': '7825096', 'EXITS                                                               ': '2781131', '_id': ObjectId('645980203e7b0d00f6fb7c3a')}\n",
      "{'': '29', 'C/A': 'A002', 'UNIT': 'R051', 'SCP': '02-00-00', 'STATION': '59 ST', 'LINENAME': 'NQR456W', 'DIVISION': 'BMT', 'DATE': '02/01/2023', 'TIME': '23:00:00', 'DESC': 'REGULAR', 'ENTRIES': '7825193', 'EXITS                                                               ': '2781160', '_id': ObjectId('645980203e7b0d00f6fb7c3b')}\n",
      "{'': '30', 'C/A': 'A002', 'UNIT': 'R051', 'SCP': '02-00-00', 'STATION': '59 ST', 'LINENAME': 'NQR456W', 'DIVISION': 'BMT', 'DATE': '02/02/2023', 'TIME': '03:00:00', 'DESC': 'REGULAR', 'ENTRIES': '7825207', 'EXITS                                                               ': '2781174', '_id': ObjectId('645980203e7b0d00f6fb7c3c')}\n",
      "{'': '31', 'C/A': 'A002', 'UNIT': 'R051', 'SCP': '02-00-00', 'STATION': '59 ST', 'LINENAME': 'NQR456W', 'DIVISION': 'BMT', 'DATE': '02/02/2023', 'TIME': '07:00:00', 'DESC': 'REGULAR', 'ENTRIES': '7825216', 'EXITS                                                               ': '2781209', '_id': ObjectId('645980203e7b0d00f6fb7c3d')}\n",
      "{'': '32', 'C/A': 'A002', 'UNIT': 'R051', 'SCP': '02-00-00', 'STATION': '59 ST', 'LINENAME': 'NQR456W', 'DIVISION': 'BMT', 'DATE': '02/02/2023', 'TIME': '11:00:00', 'DESC': 'REGULAR', 'ENTRIES': '7825264', 'EXITS                                                               ': '2781443', '_id': ObjectId('645980203e7b0d00f6fb7c3e')}\n",
      "{'': '33', 'C/A': 'A002', 'UNIT': 'R051', 'SCP': '02-00-00', 'STATION': '59 ST', 'LINENAME': 'NQR456W', 'DIVISION': 'BMT', 'DATE': '02/02/2023', 'TIME': '15:00:00', 'DESC': 'REGULAR', 'ENTRIES': '7825351', 'EXITS                                                               ': '2781497', '_id': ObjectId('645980203e7b0d00f6fb7c3f')}\n",
      "{'': '34', 'C/A': 'A002', 'UNIT': 'R051', 'SCP': '02-00-00', 'STATION': '59 ST', 'LINENAME': 'NQR456W', 'DIVISION': 'BMT', 'DATE': '02/02/2023', 'TIME': '19:00:00', 'DESC': 'REGULAR', 'ENTRIES': '7825616', 'EXITS                                                               ': '2781565', '_id': ObjectId('645980203e7b0d00f6fb7c40')}\n",
      "{'': '35', 'C/A': 'A002', 'UNIT': 'R051', 'SCP': '02-00-00', 'STATION': '59 ST', 'LINENAME': 'NQR456W', 'DIVISION': 'BMT', 'DATE': '02/02/2023', 'TIME': '23:00:00', 'DESC': 'REGULAR', 'ENTRIES': '7825719', 'EXITS                                                               ': '2781593', '_id': ObjectId('645980203e7b0d00f6fb7c41')}\n",
      "{'': '36', 'C/A': 'A002', 'UNIT': 'R051', 'SCP': '02-00-00', 'STATION': '59 ST', 'LINENAME': 'NQR456W', 'DIVISION': 'BMT', 'DATE': '02/03/2023', 'TIME': '03:00:00', 'DESC': 'REGULAR', 'ENTRIES': '7825730', 'EXITS                                                               ': '2781601', '_id': ObjectId('645980203e7b0d00f6fb7c42')}\n",
      "{'': '37', 'C/A': 'A002', 'UNIT': 'R051', 'SCP': '02-00-00', 'STATION': '59 ST', 'LINENAME': 'NQR456W', 'DIVISION': 'BMT', 'DATE': '02/03/2023', 'TIME': '07:00:00', 'DESC': 'REGULAR', 'ENTRIES': '7825735', 'EXITS                                                               ': '2781626', '_id': ObjectId('645980203e7b0d00f6fb7c43')}\n",
      "{'': '38', 'C/A': 'A002', 'UNIT': 'R051', 'SCP': '02-00-00', 'STATION': '59 ST', 'LINENAME': 'NQR456W', 'DIVISION': 'BMT', 'DATE': '02/03/2023', 'TIME': '11:00:00', 'DESC': 'REGULAR', 'ENTRIES': '7825772', 'EXITS                                                               ': '2781756', '_id': ObjectId('645980203e7b0d00f6fb7c44')}\n",
      "{'': '39', 'C/A': 'A002', 'UNIT': 'R051', 'SCP': '02-00-00', 'STATION': '59 ST', 'LINENAME': 'NQR456W', 'DIVISION': 'BMT', 'DATE': '02/03/2023', 'TIME': '15:00:00', 'DESC': 'REGULAR', 'ENTRIES': '7825885', 'EXITS                                                               ': '2781792', '_id': ObjectId('645980203e7b0d00f6fb7c45')}\n",
      "{'': '40', 'C/A': 'A002', 'UNIT': 'R051', 'SCP': '02-00-00', 'STATION': '59 ST', 'LINENAME': 'NQR456W', 'DIVISION': 'BMT', 'DATE': '02/03/2023', 'TIME': '19:00:00', 'DESC': 'REGULAR', 'ENTRIES': '7826114', 'EXITS                                                               ': '2781862', '_id': ObjectId('645980203e7b0d00f6fb7c46')}\n",
      "{'': '41', 'C/A': 'A002', 'UNIT': 'R051', 'SCP': '02-00-00', 'STATION': '59 ST', 'LINENAME': 'NQR456W', 'DIVISION': 'BMT', 'DATE': '02/03/2023', 'TIME': '23:00:00', 'DESC': 'REGULAR', 'ENTRIES': '7826211', 'EXITS                                                               ': '2781890', '_id': ObjectId('645980203e7b0d00f6fb7c47')}\n",
      "{'': '42', 'C/A': 'A002', 'UNIT': 'R051', 'SCP': '02-00-01', 'STATION': '59 ST', 'LINENAME': 'NQR456W', 'DIVISION': 'BMT', 'DATE': '01/28/2023', 'TIME': '03:00:00', 'DESC': 'REGULAR', 'ENTRIES': '6916463', 'EXITS                                                               ': '1637625', '_id': ObjectId('645980203e7b0d00f6fb7c48')}\n",
      "{'': '43', 'C/A': 'A002', 'UNIT': 'R051', 'SCP': '02-00-01', 'STATION': '59 ST', 'LINENAME': 'NQR456W', 'DIVISION': 'BMT', 'DATE': '01/28/2023', 'TIME': '07:00:00', 'DESC': 'REGULAR', 'ENTRIES': '6916465', 'EXITS                                                               ': '1637631', '_id': ObjectId('645980203e7b0d00f6fb7c49')}\n",
      "{'': '44', 'C/A': 'A002', 'UNIT': 'R051', 'SCP': '02-00-01', 'STATION': '59 ST', 'LINENAME': 'NQR456W', 'DIVISION': 'BMT', 'DATE': '01/28/2023', 'TIME': '11:00:00', 'DESC': 'REGULAR', 'ENTRIES': '6916474', 'EXITS                                                               ': '1637659', '_id': ObjectId('645980203e7b0d00f6fb7c4a')}\n",
      "{'': '45', 'C/A': 'A002', 'UNIT': 'R051', 'SCP': '02-00-01', 'STATION': '59 ST', 'LINENAME': 'NQR456W', 'DIVISION': 'BMT', 'DATE': '01/28/2023', 'TIME': '15:00:00', 'DESC': 'REGULAR', 'ENTRIES': '6916532', 'EXITS                                                               ': '1637694', '_id': ObjectId('645980203e7b0d00f6fb7c4b')}\n",
      "{'': '46', 'C/A': 'A002', 'UNIT': 'R051', 'SCP': '02-00-01', 'STATION': '59 ST', 'LINENAME': 'NQR456W', 'DIVISION': 'BMT', 'DATE': '01/28/2023', 'TIME': '19:00:00', 'DESC': 'REGULAR', 'ENTRIES': '6916593', 'EXITS                                                               ': '1637716', '_id': ObjectId('645980203e7b0d00f6fb7c4c')}\n",
      "{'': '47', 'C/A': 'A002', 'UNIT': 'R051', 'SCP': '02-00-01', 'STATION': '59 ST', 'LINENAME': 'NQR456W', 'DIVISION': 'BMT', 'DATE': '01/28/2023', 'TIME': '23:00:00', 'DESC': 'REGULAR', 'ENTRIES': '6916632', 'EXITS                                                               ': '1637728', '_id': ObjectId('645980203e7b0d00f6fb7c4d')}\n",
      "{'': '48', 'C/A': 'A002', 'UNIT': 'R051', 'SCP': '02-00-01', 'STATION': '59 ST', 'LINENAME': 'NQR456W', 'DIVISION': 'BMT', 'DATE': '01/29/2023', 'TIME': '03:00:00', 'DESC': 'REGULAR', 'ENTRIES': '6916641', 'EXITS                                                               ': '1637737', '_id': ObjectId('645980203e7b0d00f6fb7c4e')}\n",
      "{'': '49', 'C/A': 'A002', 'UNIT': 'R051', 'SCP': '02-00-01', 'STATION': '59 ST', 'LINENAME': 'NQR456W', 'DIVISION': 'BMT', 'DATE': '01/29/2023', 'TIME': '07:00:00', 'DESC': 'REGULAR', 'ENTRIES': '6916642', 'EXITS                                                               ': '1637741', '_id': ObjectId('645980203e7b0d00f6fb7c4f')}\n",
      "{'': '50', 'C/A': 'A002', 'UNIT': 'R051', 'SCP': '02-00-01', 'STATION': '59 ST', 'LINENAME': 'NQR456W', 'DIVISION': 'BMT', 'DATE': '01/29/2023', 'TIME': '11:00:00', 'DESC': 'REGULAR', 'ENTRIES': '6916655', 'EXITS                                                               ': '1637758', '_id': ObjectId('645980203e7b0d00f6fb7c50')}\n",
      "{'': '51', 'C/A': 'A002', 'UNIT': 'R051', 'SCP': '02-00-01', 'STATION': '59 ST', 'LINENAME': 'NQR456W', 'DIVISION': 'BMT', 'DATE': '01/29/2023', 'TIME': '15:00:00', 'DESC': 'REGULAR', 'ENTRIES': '6916692', 'EXITS                                                               ': '1637786', '_id': ObjectId('645980203e7b0d00f6fb7c51')}\n",
      "{'': '52', 'C/A': 'A002', 'UNIT': 'R051', 'SCP': '02-00-01', 'STATION': '59 ST', 'LINENAME': 'NQR456W', 'DIVISION': 'BMT', 'DATE': '01/29/2023', 'TIME': '19:00:00', 'DESC': 'REGULAR', 'ENTRIES': '6916737', 'EXITS                                                               ': '1637813', '_id': ObjectId('645980203e7b0d00f6fb7c52')}\n",
      "{'': '53', 'C/A': 'A002', 'UNIT': 'R051', 'SCP': '02-00-01', 'STATION': '59 ST', 'LINENAME': 'NQR456W', 'DIVISION': 'BMT', 'DATE': '01/29/2023', 'TIME': '23:00:00', 'DESC': 'REGULAR', 'ENTRIES': '6916774', 'EXITS                                                               ': '1637828', '_id': ObjectId('645980203e7b0d00f6fb7c53')}\n",
      "{'': '54', 'C/A': 'A002', 'UNIT': 'R051', 'SCP': '02-00-01', 'STATION': '59 ST', 'LINENAME': 'NQR456W', 'DIVISION': 'BMT', 'DATE': '01/30/2023', 'TIME': '03:00:00', 'DESC': 'REGULAR', 'ENTRIES': '6916776', 'EXITS                                                               ': '1637833', '_id': ObjectId('645980203e7b0d00f6fb7c54')}\n",
      "{'': '55', 'C/A': 'A002', 'UNIT': 'R051', 'SCP': '02-00-01', 'STATION': '59 ST', 'LINENAME': 'NQR456W', 'DIVISION': 'BMT', 'DATE': '01/30/2023', 'TIME': '07:00:00', 'DESC': 'REGULAR', 'ENTRIES': '6916780', 'EXITS                                                               ': '1637846', '_id': ObjectId('645980203e7b0d00f6fb7c55')}\n",
      "{'': '56', 'C/A': 'A002', 'UNIT': 'R051', 'SCP': '02-00-01', 'STATION': '59 ST', 'LINENAME': 'NQR456W', 'DIVISION': 'BMT', 'DATE': '01/30/2023', 'TIME': '11:00:00', 'DESC': 'REGULAR', 'ENTRIES': '6916808', 'EXITS                                                               ': '1637932', '_id': ObjectId('645980203e7b0d00f6fb7c56')}\n",
      "{'': '57', 'C/A': 'A002', 'UNIT': 'R051', 'SCP': '02-00-01', 'STATION': '59 ST', 'LINENAME': 'NQR456W', 'DIVISION': 'BMT', 'DATE': '01/30/2023', 'TIME': '19:00:00', 'DESC': 'REGULAR', 'ENTRIES': '6917080', 'EXITS                                                               ': '1637988', '_id': ObjectId('645980203e7b0d00f6fb7c57')}\n",
      "{'': '58', 'C/A': 'A002', 'UNIT': 'R051', 'SCP': '02-00-01', 'STATION': '59 ST', 'LINENAME': 'NQR456W', 'DIVISION': 'BMT', 'DATE': '01/30/2023', 'TIME': '23:00:00', 'DESC': 'REGULAR', 'ENTRIES': '6917122', 'EXITS                                                               ': '1637999', '_id': ObjectId('645980203e7b0d00f6fb7c58')}\n",
      "{'': '59', 'C/A': 'A002', 'UNIT': 'R051', 'SCP': '02-00-01', 'STATION': '59 ST', 'LINENAME': 'NQR456W', 'DIVISION': 'BMT', 'DATE': '01/31/2023', 'TIME': '03:00:00', 'DESC': 'REGULAR', 'ENTRIES': '6917129', 'EXITS                                                               ': '1638005', '_id': ObjectId('645980203e7b0d00f6fb7c59')}\n",
      "{'': '60', 'C/A': 'A002', 'UNIT': 'R051', 'SCP': '02-00-01', 'STATION': '59 ST', 'LINENAME': 'NQR456W', 'DIVISION': 'BMT', 'DATE': '01/31/2023', 'TIME': '07:00:00', 'DESC': 'REGULAR', 'ENTRIES': '6917132', 'EXITS                                                               ': '1638017', '_id': ObjectId('645980203e7b0d00f6fb7c5a')}\n",
      "{'': '61', 'C/A': 'A002', 'UNIT': 'R051', 'SCP': '02-00-01', 'STATION': '59 ST', 'LINENAME': 'NQR456W', 'DIVISION': 'BMT', 'DATE': '01/31/2023', 'TIME': '11:00:00', 'DESC': 'REGULAR', 'ENTRIES': '6917159', 'EXITS                                                               ': '1638121', '_id': ObjectId('645980203e7b0d00f6fb7c5b')}\n",
      "{'': '62', 'C/A': 'A002', 'UNIT': 'R051', 'SCP': '02-00-01', 'STATION': '59 ST', 'LINENAME': 'NQR456W', 'DIVISION': 'BMT', 'DATE': '01/31/2023', 'TIME': '15:00:00', 'DESC': 'REGULAR', 'ENTRIES': '6917229', 'EXITS                                                               ': '1638150', '_id': ObjectId('645980203e7b0d00f6fb7c5c')}\n",
      "{'': '0', 'C/A': 'A002', 'UNIT': 'R051', 'SCP': '02-00-00', 'STATION': '59 ST', 'LINENAME': 'NQR456W', 'DIVISION': 'BMT', 'DATE': '01/28/2023', 'TIME': '03:00:00', 'DESC': 'REGULAR', 'ENTRIES': '7823204', 'EXITS                                                               ': '2779648', '_id': ObjectId('645980203e7b0d00f6fb7c5d')}\n",
      "{'': '1', 'C/A': 'A002', 'UNIT': 'R051', 'SCP': '02-00-00', 'STATION': '59 ST', 'LINENAME': 'NQR456W', 'DIVISION': 'BMT', 'DATE': '01/28/2023', 'TIME': '07:00:00', 'DESC': 'REGULAR', 'ENTRIES': '7823209', 'EXITS                                                               ': '2779660', '_id': ObjectId('645980203e7b0d00f6fb7c5e')}\n",
      "{'': '2', 'C/A': 'A002', 'UNIT': 'R051', 'SCP': '02-00-00', 'STATION': '59 ST', 'LINENAME': 'NQR456W', 'DIVISION': 'BMT', 'DATE': '01/28/2023', 'TIME': '11:00:00', 'DESC': 'REGULAR', 'ENTRIES': '7823236', 'EXITS                                                               ': '2779708', '_id': ObjectId('645980203e7b0d00f6fb7c5f')}\n",
      "{'': '3', 'C/A': 'A002', 'UNIT': 'R051', 'SCP': '02-00-00', 'STATION': '59 ST', 'LINENAME': 'NQR456W', 'DIVISION': 'BMT', 'DATE': '01/28/2023', 'TIME': '15:00:00', 'DESC': 'REGULAR', 'ENTRIES': '7823309', 'EXITS                                                               ': '2779758', '_id': ObjectId('645980243e7b0d00f6fb7c60')}\n",
      "{'': '4', 'C/A': 'A002', 'UNIT': 'R051', 'SCP': '02-00-00', 'STATION': '59 ST', 'LINENAME': 'NQR456W', 'DIVISION': 'BMT', 'DATE': '01/28/2023', 'TIME': '19:00:00', 'DESC': 'REGULAR', 'ENTRIES': '7823405', 'EXITS                                                               ': '2779810', '_id': ObjectId('645980293e7b0d00f6fb7c61')}\n",
      "{'': '5', 'C/A': 'A002', 'UNIT': 'R051', 'SCP': '02-00-00', 'STATION': '59 ST', 'LINENAME': 'NQR456W', 'DIVISION': 'BMT', 'DATE': '01/28/2023', 'TIME': '23:00:00', 'DESC': 'REGULAR', 'ENTRIES': '7823467', 'EXITS                                                               ': '2779838', '_id': ObjectId('6459802e3e7b0d00f6fb7c62')}\n"
     ]
    },
    {
     "ename": "AssertionError",
     "evalue": "",
     "output_type": "error",
     "traceback": [
      "\u001b[0;31m---------------------------------------------------------------------------\u001b[0m",
      "\u001b[0;31mKeyboardInterrupt\u001b[0m                         Traceback (most recent call last)",
      "Cell \u001b[0;32mIn[27], line 38\u001b[0m\n\u001b[1;32m     37\u001b[0m \u001b[38;5;28;01mtry\u001b[39;00m:\n\u001b[0;32m---> 38\u001b[0m     \u001b[38;5;28;01mfor\u001b[39;00m message \u001b[38;5;129;01min\u001b[39;00m consumer:\n\u001b[1;32m     39\u001b[0m         message \u001b[38;5;241m=\u001b[39m message\u001b[38;5;241m.\u001b[39mvalue\n",
      "File \u001b[0;32m~/anaconda3/lib/python3.10/site-packages/kafka/consumer/group.py:1193\u001b[0m, in \u001b[0;36mKafkaConsumer.__next__\u001b[0;34m(self)\u001b[0m\n\u001b[1;32m   1192\u001b[0m \u001b[38;5;28;01melse\u001b[39;00m:\n\u001b[0;32m-> 1193\u001b[0m     \u001b[38;5;28;01mreturn\u001b[39;00m \u001b[38;5;28;43mself\u001b[39;49m\u001b[38;5;241;43m.\u001b[39;49m\u001b[43mnext_v2\u001b[49m\u001b[43m(\u001b[49m\u001b[43m)\u001b[49m\n",
      "File \u001b[0;32m~/anaconda3/lib/python3.10/site-packages/kafka/consumer/group.py:1201\u001b[0m, in \u001b[0;36mKafkaConsumer.next_v2\u001b[0;34m(self)\u001b[0m\n\u001b[1;32m   1200\u001b[0m \u001b[38;5;28;01mtry\u001b[39;00m:\n\u001b[0;32m-> 1201\u001b[0m     \u001b[38;5;28;01mreturn\u001b[39;00m \u001b[38;5;28;43mnext\u001b[39;49m\u001b[43m(\u001b[49m\u001b[38;5;28;43mself\u001b[39;49m\u001b[38;5;241;43m.\u001b[39;49m\u001b[43m_iterator\u001b[49m\u001b[43m)\u001b[49m\n\u001b[1;32m   1202\u001b[0m \u001b[38;5;28;01mexcept\u001b[39;00m \u001b[38;5;167;01mStopIteration\u001b[39;00m:\n",
      "File \u001b[0;32m~/anaconda3/lib/python3.10/site-packages/kafka/consumer/group.py:1116\u001b[0m, in \u001b[0;36mKafkaConsumer._message_generator_v2\u001b[0;34m(self)\u001b[0m\n\u001b[1;32m   1115\u001b[0m timeout_ms \u001b[38;5;241m=\u001b[39m \u001b[38;5;241m1000\u001b[39m \u001b[38;5;241m*\u001b[39m (\u001b[38;5;28mself\u001b[39m\u001b[38;5;241m.\u001b[39m_consumer_timeout \u001b[38;5;241m-\u001b[39m time\u001b[38;5;241m.\u001b[39mtime())\n\u001b[0;32m-> 1116\u001b[0m record_map \u001b[38;5;241m=\u001b[39m \u001b[38;5;28;43mself\u001b[39;49m\u001b[38;5;241;43m.\u001b[39;49m\u001b[43mpoll\u001b[49m\u001b[43m(\u001b[49m\u001b[43mtimeout_ms\u001b[49m\u001b[38;5;241;43m=\u001b[39;49m\u001b[43mtimeout_ms\u001b[49m\u001b[43m,\u001b[49m\u001b[43m \u001b[49m\u001b[43mupdate_offsets\u001b[49m\u001b[38;5;241;43m=\u001b[39;49m\u001b[38;5;28;43;01mFalse\u001b[39;49;00m\u001b[43m)\u001b[49m\n\u001b[1;32m   1117\u001b[0m \u001b[38;5;28;01mfor\u001b[39;00m tp, records \u001b[38;5;129;01min\u001b[39;00m six\u001b[38;5;241m.\u001b[39miteritems(record_map):\n\u001b[1;32m   1118\u001b[0m     \u001b[38;5;66;03m# Generators are stateful, and it is possible that the tp / records\u001b[39;00m\n\u001b[1;32m   1119\u001b[0m     \u001b[38;5;66;03m# here may become stale during iteration -- i.e., we seek to a\u001b[39;00m\n\u001b[1;32m   1120\u001b[0m     \u001b[38;5;66;03m# different offset, pause consumption, or lose assignment.\u001b[39;00m\n",
      "File \u001b[0;32m~/anaconda3/lib/python3.10/site-packages/kafka/consumer/group.py:655\u001b[0m, in \u001b[0;36mKafkaConsumer.poll\u001b[0;34m(self, timeout_ms, max_records, update_offsets)\u001b[0m\n\u001b[1;32m    654\u001b[0m \u001b[38;5;28;01mwhile\u001b[39;00m \u001b[38;5;28;01mTrue\u001b[39;00m:\n\u001b[0;32m--> 655\u001b[0m     records \u001b[38;5;241m=\u001b[39m \u001b[38;5;28;43mself\u001b[39;49m\u001b[38;5;241;43m.\u001b[39;49m\u001b[43m_poll_once\u001b[49m\u001b[43m(\u001b[49m\u001b[43mremaining\u001b[49m\u001b[43m,\u001b[49m\u001b[43m \u001b[49m\u001b[43mmax_records\u001b[49m\u001b[43m,\u001b[49m\u001b[43m \u001b[49m\u001b[43mupdate_offsets\u001b[49m\u001b[38;5;241;43m=\u001b[39;49m\u001b[43mupdate_offsets\u001b[49m\u001b[43m)\u001b[49m\n\u001b[1;32m    656\u001b[0m     \u001b[38;5;28;01mif\u001b[39;00m records:\n",
      "File \u001b[0;32m~/anaconda3/lib/python3.10/site-packages/kafka/consumer/group.py:702\u001b[0m, in \u001b[0;36mKafkaConsumer._poll_once\u001b[0;34m(self, timeout_ms, max_records, update_offsets)\u001b[0m\n\u001b[1;32m    701\u001b[0m timeout_ms \u001b[38;5;241m=\u001b[39m \u001b[38;5;28mmin\u001b[39m(timeout_ms, \u001b[38;5;28mself\u001b[39m\u001b[38;5;241m.\u001b[39m_coordinator\u001b[38;5;241m.\u001b[39mtime_to_next_poll() \u001b[38;5;241m*\u001b[39m \u001b[38;5;241m1000\u001b[39m)\n\u001b[0;32m--> 702\u001b[0m \u001b[38;5;28;43mself\u001b[39;49m\u001b[38;5;241;43m.\u001b[39;49m\u001b[43m_client\u001b[49m\u001b[38;5;241;43m.\u001b[39;49m\u001b[43mpoll\u001b[49m\u001b[43m(\u001b[49m\u001b[43mtimeout_ms\u001b[49m\u001b[38;5;241;43m=\u001b[39;49m\u001b[43mtimeout_ms\u001b[49m\u001b[43m)\u001b[49m\n\u001b[1;32m    703\u001b[0m \u001b[38;5;66;03m# after the long poll, we should check whether the group needs to rebalance\u001b[39;00m\n\u001b[1;32m    704\u001b[0m \u001b[38;5;66;03m# prior to returning data so that the group can stabilize faster\u001b[39;00m\n",
      "File \u001b[0;32m~/anaconda3/lib/python3.10/site-packages/kafka/client_async.py:602\u001b[0m, in \u001b[0;36mKafkaClient.poll\u001b[0;34m(self, timeout_ms, future)\u001b[0m\n\u001b[1;32m    600\u001b[0m         timeout \u001b[38;5;241m=\u001b[39m \u001b[38;5;28mmax\u001b[39m(\u001b[38;5;241m0\u001b[39m, timeout)  \u001b[38;5;66;03m# avoid negative timeouts\u001b[39;00m\n\u001b[0;32m--> 602\u001b[0m     \u001b[38;5;28;43mself\u001b[39;49m\u001b[38;5;241;43m.\u001b[39;49m\u001b[43m_poll\u001b[49m\u001b[43m(\u001b[49m\u001b[43mtimeout\u001b[49m\u001b[43m \u001b[49m\u001b[38;5;241;43m/\u001b[39;49m\u001b[43m \u001b[49m\u001b[38;5;241;43m1000\u001b[39;49m\u001b[43m)\u001b[49m\n\u001b[1;32m    604\u001b[0m \u001b[38;5;66;03m# called without the lock to avoid deadlock potential\u001b[39;00m\n\u001b[1;32m    605\u001b[0m \u001b[38;5;66;03m# if handlers need to acquire locks\u001b[39;00m\n",
      "File \u001b[0;32m~/anaconda3/lib/python3.10/site-packages/kafka/client_async.py:634\u001b[0m, in \u001b[0;36mKafkaClient._poll\u001b[0;34m(self, timeout)\u001b[0m\n\u001b[1;32m    633\u001b[0m start_select \u001b[38;5;241m=\u001b[39m time\u001b[38;5;241m.\u001b[39mtime()\n\u001b[0;32m--> 634\u001b[0m ready \u001b[38;5;241m=\u001b[39m \u001b[38;5;28;43mself\u001b[39;49m\u001b[38;5;241;43m.\u001b[39;49m\u001b[43m_selector\u001b[49m\u001b[38;5;241;43m.\u001b[39;49m\u001b[43mselect\u001b[49m\u001b[43m(\u001b[49m\u001b[43mtimeout\u001b[49m\u001b[43m)\u001b[49m\n\u001b[1;32m    635\u001b[0m end_select \u001b[38;5;241m=\u001b[39m time\u001b[38;5;241m.\u001b[39mtime()\n",
      "File \u001b[0;32m~/anaconda3/lib/python3.10/selectors.py:562\u001b[0m, in \u001b[0;36mKqueueSelector.select\u001b[0;34m(self, timeout)\u001b[0m\n\u001b[1;32m    561\u001b[0m \u001b[38;5;28;01mtry\u001b[39;00m:\n\u001b[0;32m--> 562\u001b[0m     kev_list \u001b[38;5;241m=\u001b[39m \u001b[38;5;28;43mself\u001b[39;49m\u001b[38;5;241;43m.\u001b[39;49m\u001b[43m_selector\u001b[49m\u001b[38;5;241;43m.\u001b[39;49m\u001b[43mcontrol\u001b[49m\u001b[43m(\u001b[49m\u001b[38;5;28;43;01mNone\u001b[39;49;00m\u001b[43m,\u001b[49m\u001b[43m \u001b[49m\u001b[43mmax_ev\u001b[49m\u001b[43m,\u001b[49m\u001b[43m \u001b[49m\u001b[43mtimeout\u001b[49m\u001b[43m)\u001b[49m\n\u001b[1;32m    563\u001b[0m \u001b[38;5;28;01mexcept\u001b[39;00m \u001b[38;5;167;01mInterruptedError\u001b[39;00m:\n",
      "\u001b[0;31mKeyboardInterrupt\u001b[0m: ",
      "\nDuring handling of the above exception, another exception occurred:\n",
      "\u001b[0;31mSystemExit\u001b[0m                                Traceback (most recent call last)",
      "    \u001b[0;31m[... skipping hidden 1 frame]\u001b[0m\n",
      "Cell \u001b[0;32mIn[27], line 43\u001b[0m\n\u001b[1;32m     42\u001b[0m \u001b[38;5;28;01mexcept\u001b[39;00m:\n\u001b[0;32m---> 43\u001b[0m     \u001b[43msys\u001b[49m\u001b[38;5;241;43m.\u001b[39;49m\u001b[43mexit\u001b[49m\u001b[43m(\u001b[49m\u001b[43m)\u001b[49m\n",
      "\u001b[0;31mSystemExit\u001b[0m: ",
      "\nDuring handling of the above exception, another exception occurred:\n",
      "\u001b[0;31mAssertionError\u001b[0m                            Traceback (most recent call last)",
      "    \u001b[0;31m[... skipping hidden 1 frame]\u001b[0m\n",
      "File \u001b[0;32m~/anaconda3/lib/python3.10/site-packages/IPython/core/interactiveshell.py:2047\u001b[0m, in \u001b[0;36mInteractiveShell.showtraceback\u001b[0;34m(self, exc_tuple, filename, tb_offset, exception_only, running_compiled_code)\u001b[0m\n\u001b[1;32m   2044\u001b[0m \u001b[38;5;28;01mif\u001b[39;00m exception_only:\n\u001b[1;32m   2045\u001b[0m     stb \u001b[38;5;241m=\u001b[39m [\u001b[38;5;124m'\u001b[39m\u001b[38;5;124mAn exception has occurred, use \u001b[39m\u001b[38;5;124m%\u001b[39m\u001b[38;5;124mtb to see \u001b[39m\u001b[38;5;124m'\u001b[39m\n\u001b[1;32m   2046\u001b[0m            \u001b[38;5;124m'\u001b[39m\u001b[38;5;124mthe full traceback.\u001b[39m\u001b[38;5;130;01m\\n\u001b[39;00m\u001b[38;5;124m'\u001b[39m]\n\u001b[0;32m-> 2047\u001b[0m     stb\u001b[38;5;241m.\u001b[39mextend(\u001b[38;5;28;43mself\u001b[39;49m\u001b[38;5;241;43m.\u001b[39;49m\u001b[43mInteractiveTB\u001b[49m\u001b[38;5;241;43m.\u001b[39;49m\u001b[43mget_exception_only\u001b[49m\u001b[43m(\u001b[49m\u001b[43metype\u001b[49m\u001b[43m,\u001b[49m\n\u001b[1;32m   2048\u001b[0m \u001b[43m                                                     \u001b[49m\u001b[43mvalue\u001b[49m\u001b[43m)\u001b[49m)\n\u001b[1;32m   2049\u001b[0m \u001b[38;5;28;01melse\u001b[39;00m:\n\u001b[1;32m   2050\u001b[0m     \u001b[38;5;28;01mtry\u001b[39;00m:\n\u001b[1;32m   2051\u001b[0m         \u001b[38;5;66;03m# Exception classes can customise their traceback - we\u001b[39;00m\n\u001b[1;32m   2052\u001b[0m         \u001b[38;5;66;03m# use this in IPython.parallel for exceptions occurring\u001b[39;00m\n\u001b[1;32m   2053\u001b[0m         \u001b[38;5;66;03m# in the engines. This should return a list of strings.\u001b[39;00m\n",
      "File \u001b[0;32m~/anaconda3/lib/python3.10/site-packages/IPython/core/ultratb.py:585\u001b[0m, in \u001b[0;36mListTB.get_exception_only\u001b[0;34m(self, etype, value)\u001b[0m\n\u001b[1;32m    577\u001b[0m \u001b[38;5;28;01mdef\u001b[39;00m \u001b[38;5;21mget_exception_only\u001b[39m(\u001b[38;5;28mself\u001b[39m, etype, value):\n\u001b[1;32m    578\u001b[0m     \u001b[38;5;124;03m\"\"\"Only print the exception type and message, without a traceback.\u001b[39;00m\n\u001b[1;32m    579\u001b[0m \n\u001b[1;32m    580\u001b[0m \u001b[38;5;124;03m    Parameters\u001b[39;00m\n\u001b[0;32m   (...)\u001b[0m\n\u001b[1;32m    583\u001b[0m \u001b[38;5;124;03m    value : exception value\u001b[39;00m\n\u001b[1;32m    584\u001b[0m \u001b[38;5;124;03m    \"\"\"\u001b[39;00m\n\u001b[0;32m--> 585\u001b[0m     \u001b[38;5;28;01mreturn\u001b[39;00m \u001b[43mListTB\u001b[49m\u001b[38;5;241;43m.\u001b[39;49m\u001b[43mstructured_traceback\u001b[49m\u001b[43m(\u001b[49m\u001b[38;5;28;43mself\u001b[39;49m\u001b[43m,\u001b[49m\u001b[43m \u001b[49m\u001b[43metype\u001b[49m\u001b[43m,\u001b[49m\u001b[43m \u001b[49m\u001b[43mvalue\u001b[49m\u001b[43m)\u001b[49m\n",
      "File \u001b[0;32m~/anaconda3/lib/python3.10/site-packages/IPython/core/ultratb.py:452\u001b[0m, in \u001b[0;36mListTB.structured_traceback\u001b[0;34m(self, etype, evalue, etb, tb_offset, context)\u001b[0m\n\u001b[1;32m    449\u001b[0m     chained_exc_ids\u001b[38;5;241m.\u001b[39madd(\u001b[38;5;28mid\u001b[39m(exception[\u001b[38;5;241m1\u001b[39m]))\n\u001b[1;32m    450\u001b[0m     chained_exceptions_tb_offset \u001b[38;5;241m=\u001b[39m \u001b[38;5;241m0\u001b[39m\n\u001b[1;32m    451\u001b[0m     out_list \u001b[38;5;241m=\u001b[39m (\n\u001b[0;32m--> 452\u001b[0m         \u001b[38;5;28;43mself\u001b[39;49m\u001b[38;5;241;43m.\u001b[39;49m\u001b[43mstructured_traceback\u001b[49m\u001b[43m(\u001b[49m\n\u001b[1;32m    453\u001b[0m \u001b[43m            \u001b[49m\u001b[43metype\u001b[49m\u001b[43m,\u001b[49m\u001b[43m \u001b[49m\u001b[43mevalue\u001b[49m\u001b[43m,\u001b[49m\u001b[43m \u001b[49m\u001b[43m(\u001b[49m\u001b[43metb\u001b[49m\u001b[43m,\u001b[49m\u001b[43m \u001b[49m\u001b[43mchained_exc_ids\u001b[49m\u001b[43m)\u001b[49m\u001b[43m,\u001b[49m\n\u001b[1;32m    454\u001b[0m \u001b[43m            \u001b[49m\u001b[43mchained_exceptions_tb_offset\u001b[49m\u001b[43m,\u001b[49m\u001b[43m \u001b[49m\u001b[43mcontext\u001b[49m\u001b[43m)\u001b[49m\n\u001b[1;32m    455\u001b[0m         \u001b[38;5;241m+\u001b[39m chained_exception_message\n\u001b[1;32m    456\u001b[0m         \u001b[38;5;241m+\u001b[39m out_list)\n\u001b[1;32m    458\u001b[0m \u001b[38;5;28;01mreturn\u001b[39;00m out_list\n",
      "File \u001b[0;32m~/anaconda3/lib/python3.10/site-packages/IPython/core/ultratb.py:1118\u001b[0m, in \u001b[0;36mAutoFormattedTB.structured_traceback\u001b[0;34m(self, etype, value, tb, tb_offset, number_of_lines_of_context)\u001b[0m\n\u001b[1;32m   1116\u001b[0m \u001b[38;5;28;01melse\u001b[39;00m:\n\u001b[1;32m   1117\u001b[0m     \u001b[38;5;28mself\u001b[39m\u001b[38;5;241m.\u001b[39mtb \u001b[38;5;241m=\u001b[39m tb\n\u001b[0;32m-> 1118\u001b[0m \u001b[38;5;28;01mreturn\u001b[39;00m \u001b[43mFormattedTB\u001b[49m\u001b[38;5;241;43m.\u001b[39;49m\u001b[43mstructured_traceback\u001b[49m\u001b[43m(\u001b[49m\n\u001b[1;32m   1119\u001b[0m \u001b[43m    \u001b[49m\u001b[38;5;28;43mself\u001b[39;49m\u001b[43m,\u001b[49m\u001b[43m \u001b[49m\u001b[43metype\u001b[49m\u001b[43m,\u001b[49m\u001b[43m \u001b[49m\u001b[43mvalue\u001b[49m\u001b[43m,\u001b[49m\u001b[43m \u001b[49m\u001b[43mtb\u001b[49m\u001b[43m,\u001b[49m\u001b[43m \u001b[49m\u001b[43mtb_offset\u001b[49m\u001b[43m,\u001b[49m\u001b[43m \u001b[49m\u001b[43mnumber_of_lines_of_context\u001b[49m\u001b[43m)\u001b[49m\n",
      "File \u001b[0;32m~/anaconda3/lib/python3.10/site-packages/IPython/core/ultratb.py:1012\u001b[0m, in \u001b[0;36mFormattedTB.structured_traceback\u001b[0;34m(self, etype, value, tb, tb_offset, number_of_lines_of_context)\u001b[0m\n\u001b[1;32m   1009\u001b[0m mode \u001b[38;5;241m=\u001b[39m \u001b[38;5;28mself\u001b[39m\u001b[38;5;241m.\u001b[39mmode\n\u001b[1;32m   1010\u001b[0m \u001b[38;5;28;01mif\u001b[39;00m mode \u001b[38;5;129;01min\u001b[39;00m \u001b[38;5;28mself\u001b[39m\u001b[38;5;241m.\u001b[39mverbose_modes:\n\u001b[1;32m   1011\u001b[0m     \u001b[38;5;66;03m# Verbose modes need a full traceback\u001b[39;00m\n\u001b[0;32m-> 1012\u001b[0m     \u001b[38;5;28;01mreturn\u001b[39;00m \u001b[43mVerboseTB\u001b[49m\u001b[38;5;241;43m.\u001b[39;49m\u001b[43mstructured_traceback\u001b[49m\u001b[43m(\u001b[49m\n\u001b[1;32m   1013\u001b[0m \u001b[43m        \u001b[49m\u001b[38;5;28;43mself\u001b[39;49m\u001b[43m,\u001b[49m\u001b[43m \u001b[49m\u001b[43metype\u001b[49m\u001b[43m,\u001b[49m\u001b[43m \u001b[49m\u001b[43mvalue\u001b[49m\u001b[43m,\u001b[49m\u001b[43m \u001b[49m\u001b[43mtb\u001b[49m\u001b[43m,\u001b[49m\u001b[43m \u001b[49m\u001b[43mtb_offset\u001b[49m\u001b[43m,\u001b[49m\u001b[43m \u001b[49m\u001b[43mnumber_of_lines_of_context\u001b[49m\n\u001b[1;32m   1014\u001b[0m \u001b[43m    \u001b[49m\u001b[43m)\u001b[49m\n\u001b[1;32m   1015\u001b[0m \u001b[38;5;28;01melif\u001b[39;00m mode \u001b[38;5;241m==\u001b[39m \u001b[38;5;124m'\u001b[39m\u001b[38;5;124mMinimal\u001b[39m\u001b[38;5;124m'\u001b[39m:\n\u001b[1;32m   1016\u001b[0m     \u001b[38;5;28;01mreturn\u001b[39;00m ListTB\u001b[38;5;241m.\u001b[39mget_exception_only(\u001b[38;5;28mself\u001b[39m, etype, value)\n",
      "File \u001b[0;32m~/anaconda3/lib/python3.10/site-packages/IPython/core/ultratb.py:865\u001b[0m, in \u001b[0;36mVerboseTB.structured_traceback\u001b[0;34m(self, etype, evalue, etb, tb_offset, number_of_lines_of_context)\u001b[0m\n\u001b[1;32m    856\u001b[0m \u001b[38;5;28;01mdef\u001b[39;00m \u001b[38;5;21mstructured_traceback\u001b[39m(\n\u001b[1;32m    857\u001b[0m     \u001b[38;5;28mself\u001b[39m,\n\u001b[1;32m    858\u001b[0m     etype: \u001b[38;5;28mtype\u001b[39m,\n\u001b[0;32m   (...)\u001b[0m\n\u001b[1;32m    862\u001b[0m     number_of_lines_of_context: \u001b[38;5;28mint\u001b[39m \u001b[38;5;241m=\u001b[39m \u001b[38;5;241m5\u001b[39m,\n\u001b[1;32m    863\u001b[0m ):\n\u001b[1;32m    864\u001b[0m     \u001b[38;5;124;03m\"\"\"Return a nice text document describing the traceback.\"\"\"\u001b[39;00m\n\u001b[0;32m--> 865\u001b[0m     formatted_exception \u001b[38;5;241m=\u001b[39m \u001b[38;5;28;43mself\u001b[39;49m\u001b[38;5;241;43m.\u001b[39;49m\u001b[43mformat_exception_as_a_whole\u001b[49m\u001b[43m(\u001b[49m\u001b[43metype\u001b[49m\u001b[43m,\u001b[49m\u001b[43m \u001b[49m\u001b[43mevalue\u001b[49m\u001b[43m,\u001b[49m\u001b[43m \u001b[49m\u001b[43metb\u001b[49m\u001b[43m,\u001b[49m\u001b[43m \u001b[49m\u001b[43mnumber_of_lines_of_context\u001b[49m\u001b[43m,\u001b[49m\n\u001b[1;32m    866\u001b[0m \u001b[43m                                                           \u001b[49m\u001b[43mtb_offset\u001b[49m\u001b[43m)\u001b[49m\n\u001b[1;32m    868\u001b[0m     colors \u001b[38;5;241m=\u001b[39m \u001b[38;5;28mself\u001b[39m\u001b[38;5;241m.\u001b[39mColors  \u001b[38;5;66;03m# just a shorthand + quicker name lookup\u001b[39;00m\n\u001b[1;32m    869\u001b[0m     colorsnormal \u001b[38;5;241m=\u001b[39m colors\u001b[38;5;241m.\u001b[39mNormal  \u001b[38;5;66;03m# used a lot\u001b[39;00m\n",
      "File \u001b[0;32m~/anaconda3/lib/python3.10/site-packages/IPython/core/ultratb.py:799\u001b[0m, in \u001b[0;36mVerboseTB.format_exception_as_a_whole\u001b[0;34m(self, etype, evalue, etb, number_of_lines_of_context, tb_offset)\u001b[0m\n\u001b[1;32m    796\u001b[0m \u001b[38;5;28;01massert\u001b[39;00m \u001b[38;5;28misinstance\u001b[39m(tb_offset, \u001b[38;5;28mint\u001b[39m)\n\u001b[1;32m    797\u001b[0m head \u001b[38;5;241m=\u001b[39m \u001b[38;5;28mself\u001b[39m\u001b[38;5;241m.\u001b[39mprepare_header(etype, \u001b[38;5;28mself\u001b[39m\u001b[38;5;241m.\u001b[39mlong_header)\n\u001b[1;32m    798\u001b[0m records \u001b[38;5;241m=\u001b[39m (\n\u001b[0;32m--> 799\u001b[0m     \u001b[38;5;28;43mself\u001b[39;49m\u001b[38;5;241;43m.\u001b[39;49m\u001b[43mget_records\u001b[49m\u001b[43m(\u001b[49m\u001b[43metb\u001b[49m\u001b[43m,\u001b[49m\u001b[43m \u001b[49m\u001b[43mnumber_of_lines_of_context\u001b[49m\u001b[43m,\u001b[49m\u001b[43m \u001b[49m\u001b[43mtb_offset\u001b[49m\u001b[43m)\u001b[49m \u001b[38;5;28;01mif\u001b[39;00m etb \u001b[38;5;28;01melse\u001b[39;00m []\n\u001b[1;32m    800\u001b[0m )\n\u001b[1;32m    802\u001b[0m frames \u001b[38;5;241m=\u001b[39m []\n\u001b[1;32m    803\u001b[0m skipped \u001b[38;5;241m=\u001b[39m \u001b[38;5;241m0\u001b[39m\n",
      "File \u001b[0;32m~/anaconda3/lib/python3.10/site-packages/IPython/core/ultratb.py:854\u001b[0m, in \u001b[0;36mVerboseTB.get_records\u001b[0;34m(self, etb, number_of_lines_of_context, tb_offset)\u001b[0m\n\u001b[1;32m    848\u001b[0m     formatter \u001b[38;5;241m=\u001b[39m \u001b[38;5;28;01mNone\u001b[39;00m\n\u001b[1;32m    849\u001b[0m options \u001b[38;5;241m=\u001b[39m stack_data\u001b[38;5;241m.\u001b[39mOptions(\n\u001b[1;32m    850\u001b[0m     before\u001b[38;5;241m=\u001b[39mbefore,\n\u001b[1;32m    851\u001b[0m     after\u001b[38;5;241m=\u001b[39mafter,\n\u001b[1;32m    852\u001b[0m     pygments_formatter\u001b[38;5;241m=\u001b[39mformatter,\n\u001b[1;32m    853\u001b[0m )\n\u001b[0;32m--> 854\u001b[0m \u001b[38;5;28;01mreturn\u001b[39;00m \u001b[38;5;28;43mlist\u001b[39;49m\u001b[43m(\u001b[49m\u001b[43mstack_data\u001b[49m\u001b[38;5;241;43m.\u001b[39;49m\u001b[43mFrameInfo\u001b[49m\u001b[38;5;241;43m.\u001b[39;49m\u001b[43mstack_data\u001b[49m\u001b[43m(\u001b[49m\u001b[43metb\u001b[49m\u001b[43m,\u001b[49m\u001b[43m \u001b[49m\u001b[43moptions\u001b[49m\u001b[38;5;241;43m=\u001b[39;49m\u001b[43moptions\u001b[49m\u001b[43m)\u001b[49m\u001b[43m)\u001b[49m[tb_offset:]\n",
      "File \u001b[0;32m~/anaconda3/lib/python3.10/site-packages/stack_data/core.py:546\u001b[0m, in \u001b[0;36mFrameInfo.stack_data\u001b[0;34m(cls, frame_or_tb, options, collapse_repeated_frames)\u001b[0m\n\u001b[1;32m    530\u001b[0m \u001b[38;5;129m@classmethod\u001b[39m\n\u001b[1;32m    531\u001b[0m \u001b[38;5;28;01mdef\u001b[39;00m \u001b[38;5;21mstack_data\u001b[39m(\n\u001b[1;32m    532\u001b[0m         \u001b[38;5;28mcls\u001b[39m,\n\u001b[0;32m   (...)\u001b[0m\n\u001b[1;32m    536\u001b[0m         collapse_repeated_frames: \u001b[38;5;28mbool\u001b[39m \u001b[38;5;241m=\u001b[39m \u001b[38;5;28;01mTrue\u001b[39;00m\n\u001b[1;32m    537\u001b[0m ) \u001b[38;5;241m-\u001b[39m\u001b[38;5;241m>\u001b[39m Iterator[Union[\u001b[38;5;124m'\u001b[39m\u001b[38;5;124mFrameInfo\u001b[39m\u001b[38;5;124m'\u001b[39m, RepeatedFrames]]:\n\u001b[1;32m    538\u001b[0m     \u001b[38;5;124;03m\"\"\"\u001b[39;00m\n\u001b[1;32m    539\u001b[0m \u001b[38;5;124;03m    An iterator of FrameInfo and RepeatedFrames objects representing\u001b[39;00m\n\u001b[1;32m    540\u001b[0m \u001b[38;5;124;03m    a full traceback or stack. Similar consecutive frames are collapsed into RepeatedFrames\u001b[39;00m\n\u001b[0;32m   (...)\u001b[0m\n\u001b[1;32m    544\u001b[0m \u001b[38;5;124;03m    and optionally an Options object to configure.\u001b[39;00m\n\u001b[1;32m    545\u001b[0m \u001b[38;5;124;03m    \"\"\"\u001b[39;00m\n\u001b[0;32m--> 546\u001b[0m     stack \u001b[38;5;241m=\u001b[39m \u001b[38;5;28;43mlist\u001b[39;49m\u001b[43m(\u001b[49m\u001b[43miter_stack\u001b[49m\u001b[43m(\u001b[49m\u001b[43mframe_or_tb\u001b[49m\u001b[43m)\u001b[49m\u001b[43m)\u001b[49m\n\u001b[1;32m    548\u001b[0m     \u001b[38;5;66;03m# Reverse the stack from a frame so that it's in the same order\u001b[39;00m\n\u001b[1;32m    549\u001b[0m     \u001b[38;5;66;03m# as the order from a traceback, which is the order of a printed\u001b[39;00m\n\u001b[1;32m    550\u001b[0m     \u001b[38;5;66;03m# traceback when read top to bottom (most recent call last)\u001b[39;00m\n\u001b[1;32m    551\u001b[0m     \u001b[38;5;28;01mif\u001b[39;00m is_frame(frame_or_tb):\n",
      "File \u001b[0;32m~/anaconda3/lib/python3.10/site-packages/stack_data/utils.py:98\u001b[0m, in \u001b[0;36miter_stack\u001b[0;34m(frame_or_tb)\u001b[0m\n\u001b[1;32m     96\u001b[0m \u001b[38;5;28;01mwhile\u001b[39;00m frame_or_tb:\n\u001b[1;32m     97\u001b[0m     \u001b[38;5;28;01myield\u001b[39;00m frame_or_tb\n\u001b[0;32m---> 98\u001b[0m     \u001b[38;5;28;01mif\u001b[39;00m \u001b[43mis_frame\u001b[49m\u001b[43m(\u001b[49m\u001b[43mframe_or_tb\u001b[49m\u001b[43m)\u001b[49m:\n\u001b[1;32m     99\u001b[0m         frame_or_tb \u001b[38;5;241m=\u001b[39m frame_or_tb\u001b[38;5;241m.\u001b[39mf_back\n\u001b[1;32m    100\u001b[0m     \u001b[38;5;28;01melse\u001b[39;00m:\n",
      "File \u001b[0;32m~/anaconda3/lib/python3.10/site-packages/stack_data/utils.py:91\u001b[0m, in \u001b[0;36mis_frame\u001b[0;34m(frame_or_tb)\u001b[0m\n\u001b[1;32m     90\u001b[0m \u001b[38;5;28;01mdef\u001b[39;00m \u001b[38;5;21mis_frame\u001b[39m(frame_or_tb: Union[FrameType, TracebackType]) \u001b[38;5;241m-\u001b[39m\u001b[38;5;241m>\u001b[39m \u001b[38;5;28mbool\u001b[39m:\n\u001b[0;32m---> 91\u001b[0m     \u001b[43massert_\u001b[49m\u001b[43m(\u001b[49m\u001b[38;5;28;43misinstance\u001b[39;49m\u001b[43m(\u001b[49m\u001b[43mframe_or_tb\u001b[49m\u001b[43m,\u001b[49m\u001b[43m \u001b[49m\u001b[43m(\u001b[49m\u001b[43mtypes\u001b[49m\u001b[38;5;241;43m.\u001b[39;49m\u001b[43mFrameType\u001b[49m\u001b[43m,\u001b[49m\u001b[43m \u001b[49m\u001b[43mtypes\u001b[49m\u001b[38;5;241;43m.\u001b[39;49m\u001b[43mTracebackType\u001b[49m\u001b[43m)\u001b[49m\u001b[43m)\u001b[49m\u001b[43m)\u001b[49m\n\u001b[1;32m     92\u001b[0m     \u001b[38;5;28;01mreturn\u001b[39;00m \u001b[38;5;28misinstance\u001b[39m(frame_or_tb, (types\u001b[38;5;241m.\u001b[39mFrameType,))\n",
      "File \u001b[0;32m~/anaconda3/lib/python3.10/site-packages/stack_data/utils.py:172\u001b[0m, in \u001b[0;36massert_\u001b[0;34m(condition, error)\u001b[0m\n\u001b[1;32m    170\u001b[0m \u001b[38;5;28;01mif\u001b[39;00m \u001b[38;5;28misinstance\u001b[39m(error, \u001b[38;5;28mstr\u001b[39m):\n\u001b[1;32m    171\u001b[0m     error \u001b[38;5;241m=\u001b[39m \u001b[38;5;167;01mAssertionError\u001b[39;00m(error)\n\u001b[0;32m--> 172\u001b[0m \u001b[38;5;28;01mraise\u001b[39;00m error\n",
      "\u001b[0;31mAssertionError\u001b[0m: "
     ]
    }
   ],
   "source": [
    "from kafka import KafkaConsumer, KafkaProducer\n",
    "\n",
    "import sys\n",
    "\n",
    "import json\n",
    "from json import loads\n",
    "import pymongo\n",
    "from pymongo import MongoClient\n",
    "\n",
    "def Regression(m1, m2, m3, m4, x1, x2, x3, x4):\n",
    "    output = m1*x1 + m2*x2 + m3*x3 + m4*x4\n",
    "    return output\n",
    "\n",
    "### Setting up the Python consumer\n",
    "\n",
    "topicName = 'sample-topic'\n",
    "\n",
    "client = MongoClient()\n",
    "db = client.nm4074_BigData\n",
    "mtaPred = db[\"mtaPredictions\"]\n",
    "\n",
    "result = mtaPred.find_one({'stationName': 'GRD CNTRL-42 ST'})\n",
    "\n",
    "\n",
    "consumer = KafkaConsumer(\n",
    "    topicName,\n",
    "     bootstrap_servers=['localhost:9092'],\n",
    "     auto_offset_reset='earliest',\n",
    "     enable_auto_commit=True,\n",
    "     group_id='my-group',\n",
    "     value_deserializer=lambda x: loads(x.decode('utf-8')))\n",
    "\n",
    "    \n",
    "error = 0\n",
    "counter = 0\n",
    "### Read message from consumer\n",
    "try:\n",
    "    for message in consumer:\n",
    "        message = message.value\n",
    "        y_pred = Regression(result['x1'], result['x2'], result['x3'], result['x4'], message['time'], message['date'], message['month'], message['year'])\n",
    "        error += (message['entry'] - y_pred)^2\n",
    "        mtaPred.insert_one(message)\n",
    "        print('{}'.format(message))\n",
    "except:\n",
    "    sys.exit()\n",
    "    \n",
    "error = error / counter\n",
    "\n",
    "print(error)\n",
    "\n",
    "\n"
   ]
  },
  {
   "cell_type": "code",
   "execution_count": 6,
   "id": "a523f646-02cb-4e6c-88c5-b76e9b9fdfd0",
   "metadata": {},
   "outputs": [],
   "source": [
    "dct = {\n",
    "   \"model_name\": \"parking_violation_rf\",\n",
    "   \"model_type\": \"Random Forest\",\n",
    "   \"model_params\": {\n",
    "      \"numTrees\": 100,\n",
    "      \"maxDepth\": 5,\n",
    "      \"seed\": 42\n",
    "   },\n",
    "   \"feature_cols\": [\n",
    "      \"Plate Type_encoded\",\n",
    "      \"Vehicle Body Type_encoded\",\n",
    "      \"Vehicle Make_encoded\",\n",
    "      \"Violation Location\",\n",
    "      \"Registration State_encoded\",\n",
    "      \"Vehicle Year\"\n",
    "   ],\n",
    "   \"target_col\": \"Violation Code\",\n",
    "   \"model_object\": {\n",
    "      \"type\": \"RandomForestClassificationModel\",\n",
    "      \"numFeatures\": 6,\n",
    "      \"numTrees\": 100,\n",
    "      \"trees\": [\n",
    "         {\n",
    "            \"algo\": \"Classification\",\n",
    "            \"depth\": 5,\n",
    "            \"numNodes\": 63,\n",
    "            \"nodes\": [\n",
    "               {\n",
    "                  \"id\": 0,\n",
    "                  \"isLeaf\": False,\n",
    "                  \"leftNodeId\": 1,\n",
    "                  \"rightNodeId\": 8,\n",
    "                  \"split\": {\n",
    "                     \"featureIndex\": 0,\n",
    "                     \"featureType\": \"continuous\",\n",
    "                     \"threshold\": 1.0\n",
    "                  }\n",
    "               },\n",
    "               {\n",
    "                  \"id\": 1,\n",
    "                  \"isLeaf\": False,\n",
    "                  \"leftNodeId\": 2,\n",
    "                  \"rightNodeId\": 5,\n",
    "                  \"split\": {\n",
    "                     \"featureIndex\": 2,\n",
    "                     \"featureType\": \"continuous\",\n",
    "                     \"threshold\": 10.0\n",
    "                  }\n",
    "               },\n",
    "            ],\n",
    "            \"weights\": [\n",
    "               0.05,\n",
    "               0.05,\n",
    "            ]\n",
    "         }\n",
    "      ],\n",
    "      \"treeWeights\": [\n",
    "         1.0,\n",
    "         1.0,\n",
    "      ]\n",
    "   }\n",
    "}"
   ]
  },
  {
   "cell_type": "code",
   "execution_count": 7,
   "id": "db007ece-663b-40bf-8543-f73504eb0b27",
   "metadata": {},
   "outputs": [
    {
     "data": {
      "text/plain": [
       "<pymongo.results.InsertOneResult at 0x7f91e0cbec50>"
      ]
     },
     "execution_count": 7,
     "metadata": {},
     "output_type": "execute_result"
    }
   ],
   "source": [
    "mtaPred.insert_one(dct)"
   ]
  },
  {
   "cell_type": "code",
   "execution_count": 30,
   "id": "496b896e-b0bd-4b6d-a753-95cecb89cc3e",
   "metadata": {},
   "outputs": [],
   "source": [
    "for preds in mtaPred.find():\n",
    "    print(preds)"
   ]
  },
  {
   "cell_type": "code",
   "execution_count": 5,
   "id": "70fa5ee3-67db-42bf-bdf6-cbd520ee1190",
   "metadata": {},
   "outputs": [],
   "source": [
    "import pymongo\n",
    "from pymongo import MongoClient\n",
    "from json import dumps\n",
    "\n",
    "client = MongoClient()\n",
    "db = client.as17321_db\n",
    "mtaPred = db[\"project\"]"
   ]
  },
  {
   "cell_type": "code",
   "execution_count": 50,
   "id": "2e81635b-63e4-4a63-a28e-ff1c6185823f",
   "metadata": {},
   "outputs": [
    {
     "data": {
      "text/plain": [
       "<pymongo.results.InsertOneResult at 0x7f89814cee90>"
      ]
     },
     "execution_count": 50,
     "metadata": {},
     "output_type": "execute_result"
    }
   ],
   "source": [
    "message = {'stationName': '34 ST-HERALD SQ', 'x1':0.12532990583272624, 'x2':2.387113269902955, 'x3': -46.5747575852593, 'x4':26.474606779331562}\n",
    "mtaPred.insert_one(message)"
   ]
  },
  {
   "cell_type": "code",
   "execution_count": 51,
   "id": "f17429a0-86c4-458f-a2f9-b438286e4d5f",
   "metadata": {},
   "outputs": [
    {
     "data": {
      "text/plain": [
       "<pymongo.results.InsertOneResult at 0x7f89814508b0>"
      ]
     },
     "execution_count": 51,
     "metadata": {},
     "output_type": "execute_result"
    }
   ],
   "source": [
    "message = {'stationName': '34 ST-PENN STA', 'x1':-0.028445231118806154, 'x2':1.350438785352042, 'x3': -48.72160804640406, 'x4':19.886244692811545}\n",
    "mtaPred.insert_one(message)"
   ]
  },
  {
   "cell_type": "code",
   "execution_count": 53,
   "id": "0aa56893-e74b-4d76-ae9d-335d1acd3b13",
   "metadata": {},
   "outputs": [
    {
     "data": {
      "text/plain": [
       "<pymongo.results.InsertOneResult at 0x7f89724ada50>"
      ]
     },
     "execution_count": 53,
     "metadata": {},
     "output_type": "execute_result"
    }
   ],
   "source": [
    "message = {'stationName': 'GRD CNTRL-42 ST', 'x1':-0.182535214829987, 'x2':-0.24886990367747416, 'x3': -56.92190371807762, 'x4':17.523539044046665}\n",
    "mtaPred.insert_one(message)"
   ]
  },
  {
   "cell_type": "code",
   "execution_count": 54,
   "id": "a33ceed8-bc8c-4adf-a857-8067d5a2caa3",
   "metadata": {},
   "outputs": [
    {
     "data": {
      "text/plain": [
       "<pymongo.results.InsertOneResult at 0x7f89724adf60>"
      ]
     },
     "execution_count": 54,
     "metadata": {},
     "output_type": "execute_result"
    }
   ],
   "source": [
    "message = {'stationName': '14 ST-UNION SQ', 'x1':-0.5118582082291449, 'x2':0.6747620927739875, 'x3': -61.4850637103951, 'x4':35.279712879311006}\n",
    "mtaPred.insert_one(message)"
   ]
  },
  {
   "cell_type": "code",
   "execution_count": 55,
   "id": "e3661052-a806-41e5-a1e7-143784b35dbc",
   "metadata": {},
   "outputs": [
    {
     "data": {
      "text/plain": [
       "<pymongo.results.InsertOneResult at 0x7f8980c394b0>"
      ]
     },
     "execution_count": 55,
     "metadata": {},
     "output_type": "execute_result"
    }
   ],
   "source": [
    "message = {'stationName': '23 ST', 'x1':-0.3290775762626256, 'x2':-0.7102201463745217, 'x3': -48.52416259427298, 'x4':20.25624235710693}\n",
    "mtaPred.insert_one(message)"
   ]
  },
  {
   "cell_type": "code",
   "execution_count": 52,
   "id": "f0deb5e3-6a9d-4238-838d-8f1ac67f3281",
   "metadata": {},
   "outputs": [
    {
     "name": "stdout",
     "output_type": "stream",
     "text": [
      "{'_id': ObjectId('645ad42a3e7b0d00f6fb7c6b'), 'stationName': '34 ST-HERALD SQ', 'x1': 0.12532990583272624, 'x2': 2.387113269902955, 'x3': -46.5747575852593, 'x4': 26.474606779331562}\n",
      "{'_id': ObjectId('645ad42a3e7b0d00f6fb7c6c'), 'stationName': '34 ST-PENN STA', 'x1': -0.028445231118806154, 'x2': 1.350438785352042, 'x3': -48.72160804640406, 'x4': 19.886244692811545}\n"
     ]
    }
   ],
   "source": [
    "for preds in mtaPred.find():\n",
    "    print(preds)"
   ]
  },
  {
   "cell_type": "code",
   "execution_count": 49,
   "id": "52aabe05-5535-4440-a9ce-1fdc3643838f",
   "metadata": {},
   "outputs": [
    {
     "data": {
      "text/plain": [
       "<pymongo.results.DeleteResult at 0x7f8980c391e0>"
      ]
     },
     "execution_count": 49,
     "metadata": {},
     "output_type": "execute_result"
    }
   ],
   "source": [
    "mtaPred.delete_many({})"
   ]
  },
  {
   "cell_type": "code",
   "execution_count": 46,
   "id": "3688856f-c42e-4f62-ae1b-8b72b5ca02ae",
   "metadata": {},
   "outputs": [
    {
     "name": "stdout",
     "output_type": "stream",
     "text": [
      "{'_id': ObjectId('645ace853e7b0d00f6fb7c6a'), 'stationName': 'Herald Sq', 'x1': 123, 'x2': 234, 'x3': 345, 'x4': 456}\n"
     ]
    }
   ],
   "source": [
    "heraldSq = ''\n",
    "for heraldSq in mtaPred.find({'stationName':'34 ST-HERALD SQ'}):\n",
    "    print(heraldSq)"
   ]
  },
  {
   "cell_type": "code",
   "execution_count": 47,
   "id": "ae806440-ec08-42bb-9f9e-36c234846aef",
   "metadata": {},
   "outputs": [
    {
     "data": {
      "text/plain": [
       "{'_id': ObjectId('645ace853e7b0d00f6fb7c6a'),\n",
       " 'stationName': 'Herald Sq',\n",
       " 'x1': 123,\n",
       " 'x2': 234,\n",
       " 'x3': 345,\n",
       " 'x4': 456}"
      ]
     },
     "execution_count": 47,
     "metadata": {},
     "output_type": "execute_result"
    }
   ],
   "source": [
    "heraldSq"
   ]
  },
  {
   "cell_type": "code",
   "execution_count": 8,
   "id": "25cd504b-e27c-406d-84bb-0f80d734978e",
   "metadata": {},
   "outputs": [
    {
     "name": "stdout",
     "output_type": "stream",
     "text": [
      "{'_id': ObjectId('645c8368a9160a666dba8ffc'), 'model_name': 'parking_violation_rf', 'model_type': 'Random Forest', 'model_params': {'numTrees': 100, 'maxDepth': 5, 'seed': 42}, 'feature_cols': ['Plate Type_encoded', 'Vehicle Body Type_encoded', 'Vehicle Make_encoded', 'Violation Location', 'Registration State_encoded', 'Vehicle Year'], 'target_col': 'Violation Code', 'model_object': {'type': 'RandomForestClassificationModel', 'numFeatures': 6, 'numTrees': 100, 'trees': [{'algo': 'Classification', 'depth': 5, 'numNodes': 63, 'nodes': [{'id': 0, 'isLeaf': False, 'leftNodeId': 1, 'rightNodeId': 8, 'split': {'featureIndex': 0, 'featureType': 'continuous', 'threshold': 1.0}}, {'id': 1, 'isLeaf': False, 'leftNodeId': 2, 'rightNodeId': 5, 'split': {'featureIndex': 2, 'featureType': 'continuous', 'threshold': 10.0}}], 'weights': [0.05, 0.05]}], 'treeWeights': [1.0, 1.0]}}\n"
     ]
    }
   ],
   "source": [
    "for data in mtaPred.find({}):\n",
    "    print(data)"
   ]
  },
  {
   "cell_type": "code",
   "execution_count": null,
   "id": "996eb143-4899-431d-808f-794491fc0f56",
   "metadata": {},
   "outputs": [],
   "source": []
  }
 ],
 "metadata": {
  "kernelspec": {
   "display_name": "Python 3 (ipykernel)",
   "language": "python",
   "name": "python3"
  },
  "language_info": {
   "codemirror_mode": {
    "name": "ipython",
    "version": 3
   },
   "file_extension": ".py",
   "mimetype": "text/x-python",
   "name": "python",
   "nbconvert_exporter": "python",
   "pygments_lexer": "ipython3",
   "version": "3.10.9"
  }
 },
 "nbformat": 4,
 "nbformat_minor": 5
}
