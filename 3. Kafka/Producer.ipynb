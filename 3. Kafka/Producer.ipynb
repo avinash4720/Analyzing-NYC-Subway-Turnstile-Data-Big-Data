{
 "cells": [
  {
   "cell_type": "code",
   "execution_count": 23,
   "id": "f310627e-fed1-47e1-9ab2-111f9891a9bf",
   "metadata": {},
   "outputs": [
    {
     "name": "stdout",
     "output_type": "stream",
     "text": [
      "sample-topic 0\n",
      "sample-topic 0\n",
      "sample-topic 0\n",
      "sample-topic 0\n",
      "sample-topic 0\n",
      "sample-topic 0\n",
      "sample-topic 0\n"
     ]
    },
    {
     "ename": "KeyboardInterrupt",
     "evalue": "",
     "output_type": "error",
     "traceback": [
      "\u001b[0;31m---------------------------------------------------------------------------\u001b[0m",
      "\u001b[0;31mKeyboardInterrupt\u001b[0m                         Traceback (most recent call last)",
      "Cell \u001b[0;32mIn[23], line 48\u001b[0m\n\u001b[1;32m     45\u001b[0m metadata \u001b[38;5;241m=\u001b[39m ack\u001b[38;5;241m.\u001b[39mget()\n\u001b[1;32m     47\u001b[0m \u001b[38;5;28mprint\u001b[39m(metadata\u001b[38;5;241m.\u001b[39mtopic, metadata\u001b[38;5;241m.\u001b[39mpartition)\n\u001b[0;32m---> 48\u001b[0m \u001b[43msleep\u001b[49m\u001b[43m(\u001b[49m\u001b[38;5;241;43m5\u001b[39;49m\u001b[43m)\u001b[49m\n",
      "\u001b[0;31mKeyboardInterrupt\u001b[0m: "
     ]
    }
   ],
   "source": [
    "from kafka import KafkaConsumer, KafkaProducer\n",
    "\n",
    "import json\n",
    "from time import sleep\n",
    "from json import loads\n",
    "\n",
    "from csv import DictReader\n",
    "from json import dumps\n",
    "\n",
    "\n",
    "\n",
    "\n",
    "# Set up for Kafka Producer\n",
    "\n",
    "topicname = 'sample-topic'\n",
    "\n",
    "producer = KafkaProducer(bootstrap_servers=['localhost:9092'],\n",
    "                         value_serializer=lambda x: \n",
    "                         dumps(x).encode('utf-8'))\n",
    "\n",
    "\n",
    "with open('2023.csv','r') as new_obj:\n",
    "\n",
    "    csv_dict_reader = DictReader(new_obj)\n",
    "\n",
    "    for row in csv_dict_reader:\n",
    "\n",
    "        ack = producer.send(topicname, row)\n",
    "\n",
    "        metadata = ack.get()\n",
    "\n",
    "        print(metadata.topic, metadata.partition)\n",
    "        sleep(5)\n"
   ]
  },
  {
   "cell_type": "code",
   "execution_count": null,
   "id": "f3438325-8a62-4993-b6e0-1e2485239844",
   "metadata": {},
   "outputs": [],
   "source": []
  }
 ],
 "metadata": {
  "kernelspec": {
   "display_name": "Python 3 (ipykernel)",
   "language": "python",
   "name": "python3"
  },
  "language_info": {
   "codemirror_mode": {
    "name": "ipython",
    "version": 3
   },
   "file_extension": ".py",
   "mimetype": "text/x-python",
   "name": "python",
   "nbconvert_exporter": "python",
   "pygments_lexer": "ipython3",
   "version": "3.10.9"
  }
 },
 "nbformat": 4,
 "nbformat_minor": 5
}
